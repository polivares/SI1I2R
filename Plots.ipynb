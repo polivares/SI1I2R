{
 "cells": [
  {
   "cell_type": "code",
   "execution_count": 3,
   "metadata": {},
   "outputs": [
    {
     "name": "stdout",
     "output_type": "stream",
     "text": [
      "Warning: Cannot change to a different GUI toolkit: gtk. Using qt instead.\n"
     ]
    }
   ],
   "source": [
    "import SIRmodels as mdl\n",
    "import matplotlib.pyplot as plt\n",
    "import numpy as np\n",
    "%matplotlib gtk"
   ]
  },
  {
   "cell_type": "markdown",
   "metadata": {},
   "source": [
    "# SIR original model"
   ]
  },
  {
   "cell_type": "markdown",
   "metadata": {},
   "source": [
    "### Peak position and final size of infected by parameters"
   ]
  },
  {
   "cell_type": "code",
   "execution_count": 4,
   "metadata": {},
   "outputs": [
    {
     "data": {
      "text/plain": [
       "Text(0, 0.5, 'Number of infected')"
      ]
     },
     "execution_count": 4,
     "metadata": {},
     "output_type": "execute_result"
    }
   ],
   "source": [
    "# Changing beta\n",
    "beta_arr = np.arange(0, 40, 0.01)\n",
    "\n",
    "# Originals values\n",
    "N = 1000000\n",
    "SIR0 = np.zeros(3)\n",
    "SIR0[1] = 100\n",
    "SIR0[0] = N - np.sum(SIR0[1:2])\n",
    "\n",
    "t_start = 0\n",
    "t_end = 100\n",
    "n_int = 10000\n",
    "t_sim = np.linspace(t_start, t_end, n_int)\n",
    "\n",
    "norm = True\n",
    "params = [10, 5]\n",
    "\n",
    "peak = np.zeros(len(beta_arr))\n",
    "ninf = np.zeros(len(beta_arr))\n",
    "for i in np.arange(len(beta_arr)):\n",
    "    params[0] = beta_arr[i]\n",
    "    sir = mdl.SIR(SIR0, params, t_sim)\n",
    "    sir.runEvaluation(norm)\n",
    "    try:\n",
    "        peak[i] = t_sim[sir.getDisease()[1]][0]\n",
    "    except:\n",
    "        peak[i] = t_sim[0]\n",
    "    ninf[i] = sir.getNInfected()\n",
    "\n",
    "fontsize = 8\n",
    "fig, ax = plt.subplots(2, 1)\n",
    "\n",
    "ax[0].plot(beta_arr, peak,'-b')\n",
    "ax[0].set_xlabel('Beta')\n",
    "ax[0].set_ylabel('Peak position')\n",
    "\n",
    "ax[1].plot(beta_arr, ninf, '-r')\n",
    "ax[1].set_xlabel('Beta')\n",
    "ax[1].set_ylabel('Number of infected')\n"
   ]
  },
  {
   "cell_type": "code",
   "execution_count": 5,
   "metadata": {},
   "outputs": [
    {
     "data": {
      "text/plain": [
       "Text(0, 0.5, 'Number of infected')"
      ]
     },
     "execution_count": 5,
     "metadata": {},
     "output_type": "execute_result"
    }
   ],
   "source": [
    "# Changing delta\n",
    "delta_arr = np.arange(0, 40, 0.01)\n",
    "\n",
    "# Originals values\n",
    "N = 1000000\n",
    "SIR0 = np.zeros(3)\n",
    "SIR0[1] = 100\n",
    "SIR0[0] = N - np.sum(SIR0[1:2])\n",
    "\n",
    "t_start = 0\n",
    "t_end = 100\n",
    "n_int = 10000\n",
    "t_sim = np.linspace(t_start, t_end, n_int)\n",
    "\n",
    "norm = True\n",
    "params = [10, 5]\n",
    "\n",
    "peak = np.zeros(len(delta_arr))\n",
    "ninf = np.zeros(len(delta_arr))\n",
    "for i in np.arange(len(delta_arr)):\n",
    "    params[1] = delta_arr[i]\n",
    "    sir = mdl.SIR(SIR0, params, t_sim)\n",
    "    sir.runEvaluation(norm)\n",
    "    try:\n",
    "        peak[i] = t_sim[sir.getDisease()[1]][0]\n",
    "    except:\n",
    "        peak[i] = t_sim[0]\n",
    "    ninf[i] = sir.getNInfected()\n",
    "\n",
    "fontsize = 8\n",
    "fig, ax = plt.subplots(2, 1)\n",
    "\n",
    "ax[0].plot(delta_arr, peak,'-b')\n",
    "ax[0].set_xlabel('Delta')\n",
    "ax[0].set_ylabel('Peak position')\n",
    "\n",
    "ax[1].plot(delta_arr, ninf, '-r')\n",
    "ax[1].set_xlabel('Delta')\n",
    "ax[1].set_ylabel('Number of infected')\n"
   ]
  },
  {
   "cell_type": "markdown",
   "metadata": {},
   "source": [
    "### Peak position and final size of infected by changing initial conditions"
   ]
  },
  {
   "cell_type": "code",
   "execution_count": 6,
   "metadata": {},
   "outputs": [
    {
     "data": {
      "text/plain": [
       "Text(0, 0.5, 'S0')"
      ]
     },
     "execution_count": 6,
     "metadata": {},
     "output_type": "execute_result"
    }
   ],
   "source": [
    "# Changing infected\n",
    "\n",
    "I0_arr = np.arange(0,100000,10)\n",
    "\n",
    "# Originals values\n",
    "N = 1000000\n",
    "SIR0 = np.zeros(3)\n",
    "\n",
    "\n",
    "t_start = 0\n",
    "t_end = 100\n",
    "n_int = 10000\n",
    "t_sim = np.linspace(t_start, t_end, n_int)\n",
    "\n",
    "norm = True\n",
    "params = [10, 5]\n",
    "\n",
    "peak = np.zeros(len(I0_arr))\n",
    "ninf = np.zeros(len(I0_arr))\n",
    "S0_arr = np.zeros(len(I0_arr))\n",
    "\n",
    "for i in np.arange(len(I0_arr)):\n",
    "    SIR0[1] = I0_arr[i]\n",
    "    SIR0[0] = N - np.sum(SIR0[1:2])\n",
    "    S0_arr[i] = SIR0[0]\n",
    "    sir = mdl.SIR(SIR0, params, t_sim)\n",
    "    sir.runEvaluation(norm)\n",
    "    try:\n",
    "        peak[i] = t_sim[sir.getDisease()[1]][0]\n",
    "    except:\n",
    "        peak[i] = t_sim[0]\n",
    "    ninf[i] = sir.getNInfected()\n",
    "\n",
    "fontsize = 8\n",
    "fig, ax = plt.subplots(2, 1)\n",
    "\n",
    "ax[0].plot(I0_arr, peak,'-b')\n",
    "ax[0].set_xlabel('I0')\n",
    "ax[0].set_ylabel('Peak position')\n",
    "\n",
    "ax[1].plot(I0_arr, ninf, '-r')\n",
    "ax[1].set_xlabel('I0')\n",
    "ax[1].set_ylabel('R(infty)')\n",
    "\n",
    "fig, ax = plt.subplots(2, 1)\n",
    "ax[0].plot(ninf, peak,'-b')\n",
    "ax[0].set_xlabel('R(infty)')\n",
    "ax[0].set_ylabel('Peak position')\n",
    "\n",
    "ax[1].plot(ninf, S0_arr,'-b')\n",
    "ax[1].set_xlabel('R(infty)')\n",
    "ax[1].set_ylabel('S0')\n"
   ]
  },
  {
   "cell_type": "markdown",
   "metadata": {},
   "source": [
    "# SIR Interactive model"
   ]
  },
  {
   "cell_type": "markdown",
   "metadata": {},
   "source": [
    "### Changing beta"
   ]
  },
  {
   "cell_type": "code",
   "execution_count": 7,
   "metadata": {},
   "outputs": [],
   "source": [
    "# Originals values\n",
    "N = 1000000\n",
    "SIIR0 = np.zeros(9)\n",
    "SIIR0[1] = 100\n",
    "SIIR0[2] = 100\n",
    "SIIR0[0] = N - np.sum(SIIR0[1:8])\n",
    "\n",
    "params_ind = [10, 10, 5, 9, 10, 10, 5, 9] # Independent\n",
    "params_comp = [10, 10, 5, 9, 2, 10, 5, 9] # Competitive\n",
    "params_coop = [10, 10, 5, 9, 15, 10, 5, 9] # Cooperative"
   ]
  },
  {
   "cell_type": "code",
   "execution_count": 8,
   "metadata": {},
   "outputs": [],
   "source": [
    "peak_ind = np.zeros(len(beta_arr))\n",
    "peak_comp = np.zeros(len(beta_arr))\n",
    "peak_coop = np.zeros(len(beta_arr))\n",
    "\n",
    "ninf_ind = np.zeros(len(beta_arr))\n",
    "ninf_comp = np.zeros(len(beta_arr))\n",
    "ninf_coop = np.zeros(len(beta_arr))\n",
    "\n",
    "for i in np.arange(len(beta_arr)):\n",
    "    params_ind[0] = beta_arr[i]\n",
    "    params_comp[0] = beta_arr[i]\n",
    "    params_coop[0] = beta_arr[i]\n",
    "    \n",
    "    siirSim_ind = mdl.SIIR(SIIR0, params_ind, t_sim)\n",
    "    siirSim_ind.runEvaluation(norm)\n",
    "    siirSim_comp = mdl.SIIR(SIIR0, params_comp, t_sim)\n",
    "    siirSim_comp.runEvaluation(norm)\n",
    "    siirSim_coop = mdl.SIIR(SIIR0, params_coop, t_sim)\n",
    "    siirSim_coop.runEvaluation(norm)\n",
    "    \n",
    "    sir = mdl.SIR(SIR0, params, t_sim)\n",
    "    sir.runEvaluation(norm)\n",
    "    try:\n",
    "        peak_ind[i] = t_sim[siirSim_ind.getDisease1()[1]][0]\n",
    "    except:\n",
    "        peak_ind[i] = t_sim[0]\n",
    "    \n",
    "    try:\n",
    "        peak_comp[i] = t_sim[siirSim_comp.getDisease1()[1]][0]\n",
    "    except:\n",
    "        peak_comp[i] = t_sim[0]\n",
    "        \n",
    "    try:\n",
    "        peak_coop[i] = t_sim[siirSim_coop.getDisease1()[1]][0]\n",
    "    except:\n",
    "        peak_coop[i] = t_sim[0]\n",
    "    \n",
    "    ninf_ind[i] = siirSim_ind.getNInfected1()\n",
    "    ninf_comp[i] = siirSim_comp.getNInfected1()\n",
    "    ninf_coop[i] = siirSim_coop.getNInfected1()"
   ]
  },
  {
   "cell_type": "code",
   "execution_count": 9,
   "metadata": {},
   "outputs": [
    {
     "data": {
      "text/plain": [
       "Text(0, 0.5, 'Number of infected')"
      ]
     },
     "execution_count": 9,
     "metadata": {},
     "output_type": "execute_result"
    }
   ],
   "source": [
    "fontsize = 8\n",
    "fig, ax = plt.subplots(2, 1)\n",
    "\n",
    "ax[0].plot(beta_arr, peak_ind,'-b')\n",
    "ax[0].plot(beta_arr, peak_comp,'-r')\n",
    "ax[0].plot(beta_arr, peak_coop,'-g')\n",
    "ax[0].set_xlabel('Beta')\n",
    "ax[0].set_ylabel('Peak position')\n",
    "\n",
    "ax[1].plot(beta_arr, ninf_ind, '--b')\n",
    "ax[1].plot(beta_arr, ninf_comp, '--r')\n",
    "ax[1].plot(beta_arr, ninf_coop, '--g')\n",
    "ax[1].set_xlabel('Beta')\n",
    "ax[1].set_ylabel('Number of infected')"
   ]
  },
  {
   "cell_type": "markdown",
   "metadata": {},
   "source": [
    "### Changing delta"
   ]
  },
  {
   "cell_type": "code",
   "execution_count": 10,
   "metadata": {},
   "outputs": [],
   "source": [
    "# Originals values\n",
    "N = 1000000\n",
    "SIIR0 = np.zeros(9)\n",
    "SIIR0[1] = 100\n",
    "SIIR0[2] = 100\n",
    "SIIR0[0] = N - np.sum(SIIR0[1:8])\n",
    "\n",
    "params_ind = [10, 10, 5, 9, 10, 10, 5, 9] # Independent\n",
    "params_comp = [10, 10, 5, 9, 2, 10, 5, 9] # Competitive\n",
    "params_coop = [10, 10, 5, 9, 15, 10, 5, 9] # Cooperative"
   ]
  },
  {
   "cell_type": "code",
   "execution_count": 12,
   "metadata": {},
   "outputs": [],
   "source": [
    "peak_ind = np.zeros(len(delta_arr))\n",
    "peak_comp = np.zeros(len(delta_arr))\n",
    "peak_coop = np.zeros(len(delta_arr))\n",
    "\n",
    "ninf_ind = np.zeros(len(delta_arr))\n",
    "ninf_comp = np.zeros(len(delta_arr))\n",
    "ninf_coop = np.zeros(len(delta_arr))\n",
    "\n",
    "for i in np.arange(len(delta_arr)):\n",
    "    params_ind[2] = delta_arr[i]\n",
    "    params_comp[2] = delta_arr[i]\n",
    "    params_coop[2] = delta_arr[i]\n",
    "    \n",
    "    siirSim_ind = mdl.SIIR(SIIR0, params_ind, t_sim)\n",
    "    siirSim_ind.runEvaluation(norm)\n",
    "    siirSim_comp = mdl.SIIR(SIIR0, params_comp, t_sim)\n",
    "    siirSim_comp.runEvaluation(norm)\n",
    "    siirSim_coop = mdl.SIIR(SIIR0, params_coop, t_sim)\n",
    "    siirSim_coop.runEvaluation(norm)\n",
    "    \n",
    "    sir = mdl.SIR(SIR0, params, t_sim)\n",
    "    sir.runEvaluation(norm)\n",
    "    try:\n",
    "        peak_ind[i] = t_sim[siirSim_ind.getDisease1()[1]][0]\n",
    "    except:\n",
    "        peak_ind[i] = t_sim[0]\n",
    "    \n",
    "    try:\n",
    "        peak_comp[i] = t_sim[siirSim_comp.getDisease1()[1]][0]\n",
    "    except:\n",
    "        peak_comp[i] = t_sim[0]\n",
    "        \n",
    "    try:\n",
    "        peak_coop[i] = t_sim[siirSim_coop.getDisease1()[1]][0]\n",
    "    except:\n",
    "        peak_coop[i] = t_sim[0]\n",
    "    \n",
    "    ninf_ind[i] = siirSim_ind.getNInfected1()\n",
    "    ninf_comp[i] = siirSim_comp.getNInfected1()\n",
    "    ninf_coop[i] = siirSim_coop.getNInfected1()"
   ]
  },
  {
   "cell_type": "code",
   "execution_count": 13,
   "metadata": {},
   "outputs": [
    {
     "data": {
      "text/plain": [
       "Text(0, 0.5, 'Number of infected')"
      ]
     },
     "execution_count": 13,
     "metadata": {},
     "output_type": "execute_result"
    }
   ],
   "source": [
    "fontsize = 8\n",
    "fig, ax = plt.subplots(2, 1)\n",
    "\n",
    "ax[0].plot(delta_arr, peak_ind,'-b')\n",
    "ax[0].plot(delta_arr, peak_comp,'-r')\n",
    "ax[0].plot(delta_arr, peak_coop,'-g')\n",
    "ax[0].set_xlabel('Delta')\n",
    "ax[0].set_ylabel('Peak position')\n",
    "\n",
    "ax[1].plot(delta_arr, ninf_ind, '--b')\n",
    "ax[1].plot(delta_arr, ninf_comp, '--r')\n",
    "ax[1].plot(delta_arr, ninf_coop, '--g')\n",
    "ax[1].set_xlabel('Beta')\n",
    "ax[1].set_ylabel('Number of infected')"
   ]
  },
  {
   "cell_type": "markdown",
   "metadata": {},
   "source": [
    "### Peak position and final size of infected by changing initial conditions"
   ]
  },
  {
   "cell_type": "code",
   "execution_count": null,
   "metadata": {},
   "outputs": [],
   "source": [
    "# Changing infected\n",
    "\n",
    "I0_arr = np.arange(0,100000,10)\n",
    "\n",
    "# Originals values\n",
    "N = 1000000\n",
    "SIIR0 = np.zeros(9)\n",
    "SIIR0[1] = 100\n",
    "SIIR0[2] = 100\n",
    "SIIR0[0] = N - np.sum(SIIR0[1:8])\n",
    "\n",
    "\n",
    "t_start = 0\n",
    "t_end = 100\n",
    "n_int = 10000\n",
    "t_sim = np.linspace(t_start, t_end, n_int)\n",
    "\n",
    "norm = True\n",
    "\n",
    "params_ind = [10, 10, 5, 9, 10, 10, 5, 9] # Independent\n",
    "params_comp = [10, 10, 5, 9, 2, 10, 5, 9] # Competitive\n",
    "params_coop = [10, 10, 5, 9, 15, 10, 5, 9] # Cooperative\n",
    "\n",
    "peak = np.zeros(len(I0_arr))\n",
    "ninf = np.zeros(len(I0_arr))\n",
    "S0_arr = np.zeros(len(I0_arr))\n",
    "\n",
    "for i in np.arange(len(I0_arr)):\n",
    "    SIR0[1] = I0_arr[i]\n",
    "    SIR0[0] = N - np.sum(SIR0[1:2])\n",
    "    S0_arr[i] = SIR0[0]\n",
    "    sir = mdl.SIR(SIR0, params, t_sim)\n",
    "    sir.runEvaluation(norm)\n",
    "    try:\n",
    "        peak[i] = t_sim[sir.getDisease()[1]][0]\n",
    "    except:\n",
    "        peak[i] = t_sim[0]\n",
    "    ninf[i] = sir.getNInfected()\n",
    "\n",
    "fontsize = 8\n",
    "fig, ax = plt.subplots(2, 1)\n",
    "\n",
    "ax[0].plot(I0_arr, peak,'-b')\n",
    "ax[0].set_xlabel('I0')\n",
    "ax[0].set_ylabel('Peak position')\n",
    "\n",
    "ax[1].plot(I0_arr, ninf, '-r')\n",
    "ax[1].set_xlabel('I0')\n",
    "ax[1].set_ylabel('R(infty)')\n",
    "\n",
    "fig, ax = plt.subplots(2, 1)\n",
    "ax[0].plot(ninf, peak,'-b')\n",
    "ax[0].set_xlabel('R(infty)')\n",
    "ax[0].set_ylabel('Peak position')\n",
    "\n",
    "ax[1].plot(ninf, S0_arr,'-b')\n",
    "ax[1].set_xlabel('R(infty)')\n",
    "ax[1].set_ylabel('S0')\n"
   ]
  }
 ],
 "metadata": {
  "kernelspec": {
   "display_name": "Python 3",
   "language": "python",
   "name": "python3"
  },
  "language_info": {
   "codemirror_mode": {
    "name": "ipython",
    "version": 3
   },
   "file_extension": ".py",
   "mimetype": "text/x-python",
   "name": "python",
   "nbconvert_exporter": "python",
   "pygments_lexer": "ipython3",
   "version": "3.6.9"
  },
  "varInspector": {
   "cols": {
    "lenName": 16,
    "lenType": 16,
    "lenVar": 40
   },
   "kernels_config": {
    "python": {
     "delete_cmd_postfix": "",
     "delete_cmd_prefix": "del ",
     "library": "var_list.py",
     "varRefreshCmd": "print(var_dic_list())"
    },
    "r": {
     "delete_cmd_postfix": ") ",
     "delete_cmd_prefix": "rm(",
     "library": "var_list.r",
     "varRefreshCmd": "cat(var_dic_list()) "
    }
   },
   "types_to_exclude": [
    "module",
    "function",
    "builtin_function_or_method",
    "instance",
    "_Feature"
   ],
   "window_display": false
  }
 },
 "nbformat": 4,
 "nbformat_minor": 2
}
