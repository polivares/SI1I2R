{
 "cells": [
  {
   "cell_type": "code",
   "execution_count": 1,
   "metadata": {},
   "outputs": [],
   "source": [
    "import SIRmodels as mdl\n",
    "import matplotlib.pyplot as plt\n",
    "import numpy as np\n",
    "%matplotlib qt"
   ]
  },
  {
   "cell_type": "markdown",
   "metadata": {},
   "source": [
    "### Peak position and final size of infected by parameters"
   ]
  },
  {
   "cell_type": "code",
   "execution_count": 2,
   "metadata": {},
   "outputs": [
    {
     "data": {
      "text/plain": [
       "Text(0, 0.5, 'Number of infected')"
      ]
     },
     "execution_count": 2,
     "metadata": {},
     "output_type": "execute_result"
    },
    {
     "data": {
      "image/png": "[encoded data removed]",
      "text/plain": [
       "<Figure size 432x288 with 2 Axes>"
      ]
     },
     "metadata": {
      "needs_background": "light"
     },
     "output_type": "display_data"
    }
   ],
   "source": [
    "# Changing beta\n",
    "beta_arr = np.arange(0, 40, 0.01)\n",
    "\n",
    "# Originals values\n",
    "N = 1000000\n",
    "SIR0 = np.zeros(3)\n",
    "SIR0[1] = 100\n",
    "SIR0[0] = N - np.sum(SIR0[1:2])\n",
    "\n",
    "t_start = 0\n",
    "t_end = 100\n",
    "n_int = 10000\n",
    "t_sim = np.linspace(t_start, t_end, n_int)\n",
    "\n",
    "norm = True\n",
    "params = [10, 5]\n",
    "\n",
    "peak = np.zeros(len(beta_arr))\n",
    "ninf = np.zeros(len(beta_arr))\n",
    "for i in np.arange(len(beta_arr)):\n",
    "    params[0] = beta_arr[i]\n",
    "    sir = mdl.SIR(SIR0, params, t_sim)\n",
    "    sir.runEvaluation(norm)\n",
    "    try:\n",
    "        peak[i] = t_sim[sir.getDisease()[1]][0]\n",
    "    except:\n",
    "        peak[i] = t_sim[0]\n",
    "    ninf[i] = sir.getNInfected()\n",
    "\n",
    "fontsize = 8\n",
    "fig, ax = plt.subplots(2, 1)\n",
    "\n",
    "ax[0].plot(beta_arr, peak,'-b')\n",
    "ax[0].set_xlabel('Beta')\n",
    "ax[0].set_ylabel('Peak position')\n",
    "\n",
    "ax[1].plot(beta_arr, ninf, '-r')\n",
    "ax[1].set_xlabel('Beta')\n",
    "ax[1].set_ylabel('Number of infected')\n"
   ]
  },
  {
   "cell_type": "code",
   "execution_count": 4,
   "metadata": {},
   "outputs": [
    {
     "data": {
      "text/plain": [
       "Text(0, 0.5, 'Number of infected')"
      ]
     },
     "execution_count": 4,
     "metadata": {},
     "output_type": "execute_result"
    },
    {
     "data": {
      "image/png": "[encoded data removed]",
      "text/plain": [
       "<Figure size 432x288 with 2 Axes>"
      ]
     },
     "metadata": {
      "needs_background": "light"
     },
     "output_type": "display_data"
    }
   ],
   "source": [
    "# Changing delta\n",
    "delta_arr = np.arange(0, 40, 0.01)\n",
    "\n",
    "# Originals values\n",
    "N = 1000000\n",
    "SIR0 = np.zeros(3)\n",
    "SIR0[1] = 100\n",
    "SIR0[0] = N - np.sum(SIR0[1:2])\n",
    "\n",
    "t_start = 0\n",
    "t_end = 100\n",
    "n_int = 10000\n",
    "t_sim = np.linspace(t_start, t_end, n_int)\n",
    "\n",
    "norm = True\n",
    "params = [10, 5]\n",
    "\n",
    "peak = np.zeros(len(delta_arr))\n",
    "ninf = np.zeros(len(delta_arr))\n",
    "for i in np.arange(len(delta_arr)):\n",
    "    params[1] = delta_arr[i]\n",
    "    sir = mdl.SIR(SIR0, params, t_sim)\n",
    "    sir.runEvaluation(norm)\n",
    "    try:\n",
    "        peak[i] = t_sim[sir.getDisease()[1]][0]\n",
    "    except:\n",
    "        peak[i] = t_sim[0]\n",
    "    ninf[i] = sir.getNInfected()\n",
    "\n",
    "fontsize = 8\n",
    "fig, ax = plt.subplots(2, 1)\n",
    "\n",
    "ax[0].plot(delta_arr, peak,'-b')\n",
    "ax[0].set_xlabel('Delta')\n",
    "ax[0].set_ylabel('Peak position')\n",
    "\n",
    "ax[1].plot(delta_arr, ninf, '-r')\n",
    "ax[1].set_xlabel('Delta')\n",
    "ax[1].set_ylabel('Number of infected')\n"
   ]
  },
  {
   "cell_type": "markdown",
   "metadata": {},
   "source": [
    "### Peak position and final size of infected by changing initial conditions"
   ]
  },
  {
   "cell_type": "code",
   "execution_count": 15,
   "metadata": {},
   "outputs": [
    {
     "data": {
      "text/plain": [
       "Text(0, 0.5, 'S0')"
      ]
     },
     "execution_count": 15,
     "metadata": {},
     "output_type": "execute_result"
    }
   ],
   "source": [
    "# Changing infected\n",
    "\n",
    "I0_arr = np.arange(0,100000,10)\n",
    "\n",
    "# Originals values\n",
    "N = 1000000\n",
    "SIR0 = np.zeros(3)\n",
    "\n",
    "\n",
    "t_start = 0\n",
    "t_end = 100\n",
    "n_int = 10000\n",
    "t_sim = np.linspace(t_start, t_end, n_int)\n",
    "\n",
    "norm = True\n",
    "params = [10, 5]\n",
    "\n",
    "peak = np.zeros(len(I0_arr))\n",
    "ninf = np.zeros(len(I0_arr))\n",
    "S0_arr = np.zeros(len(I0_arr))\n",
    "\n",
    "for i in np.arange(len(I0_arr)):\n",
    "    SIR0[1] = I0_arr[i]\n",
    "    SIR0[0] = N - np.sum(SIR0[1:2])\n",
    "    S0_arr[i] = SIR0[0]\n",
    "    sir = mdl.SIR(SIR0, params, t_sim)\n",
    "    sir.runEvaluation(norm)\n",
    "    try:\n",
    "        peak[i] = t_sim[sir.getDisease()[1]][0]\n",
    "    except:\n",
    "        peak[i] = t_sim[0]\n",
    "    ninf[i] = sir.getNInfected()\n",
    "\n",
    "fontsize = 8\n",
    "fig, ax = plt.subplots(2, 1)\n",
    "\n",
    "ax[0].plot(I0_arr, peak,'-b')\n",
    "ax[0].set_xlabel('I0')\n",
    "ax[0].set_ylabel('Peak position')\n",
    "\n",
    "ax[1].plot(I0_arr, ninf, '-r')\n",
    "ax[1].set_xlabel('I0')\n",
    "ax[1].set_ylabel('R(infty)')\n",
    "\n",
    "fig, ax = plt.subplots(2, 1)\n",
    "ax[0].plot(ninf, peak,'-b')\n",
    "ax[0].set_xlabel('R(infty)')\n",
    "ax[0].set_ylabel('Peak position')\n",
    "\n",
    "ax[1].plot(ninf, S0_arr,'-b')\n",
    "ax[1].set_xlabel('R(infty)')\n",
    "ax[1].set_ylabel('S0')\n"
   ]
  }
 ],
 "metadata": {
  "kernelspec": {
   "display_name": "Python 3",
   "language": "python",
   "name": "python3"
  },
  "language_info": {
   "codemirror_mode": {
    "name": "ipython",
    "version": 3
   },
   "file_extension": ".py",
   "mimetype": "text/x-python",
   "name": "python",
   "nbconvert_exporter": "python",
   "pygments_lexer": "ipython3",
   "version": "3.6.8"
  }
 },
 "nbformat": 4,
 "nbformat_minor": 2
}
